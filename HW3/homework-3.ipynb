{
 "cells": [
  {
   "cell_type": "markdown",
   "metadata": {},
   "source": [
    "## Грузим задание"
   ]
  },
  {
   "cell_type": "code",
   "execution_count": 1,
   "metadata": {},
   "outputs": [
    {
     "name": "stdout",
     "output_type": "stream",
     "text": [
      "Файл «homework-3.pdf» уже существует — не загружается.\r\n",
      "\r\n"
     ]
    }
   ],
   "source": [
    "! wget -nc https://github.com/artonson/hse-stat-course-2018/raw/master/homework-handouts/homework-3.pdf"
   ]
  },
  {
   "cell_type": "markdown",
   "metadata": {},
   "source": [
    "### Грузим данные"
   ]
  },
  {
   "cell_type": "code",
   "execution_count": 2,
   "metadata": {},
   "outputs": [
    {
     "name": "stdout",
     "output_type": "stream",
     "text": [
      "Файл «data/passengercarmileage.txt» уже существует — не загружается.\r\n",
      "\r\n"
     ]
    }
   ],
   "source": [
    "! wget -nc -P data/ https://raw.githubusercontent.com/artonson/hse-stat-course-2018/master/homework-handouts/passengercarmileage.txt"
   ]
  },
  {
   "cell_type": "markdown",
   "metadata": {},
   "source": [
    "# Задание 1."
   ]
  },
  {
   "cell_type": "markdown",
   "metadata": {},
   "source": [
    "Заметим, что $E[X] = \\lambda, D[X] = \\lambda$. Введем оценку $\\hat\\lambda = \\overline X$ -- ассимптотичски нормальная оценка.\n",
    "$$\n",
    "W = \\dfrac{\\hat\\lambda - \\lambda_0}{\\hat{se}}\n",
    "$$\n",
    "$$\n",
    "\\hat{se} = \\sqrt{\\frac{\\hat{\\lambda}}{n}}\n",
    "$$\n",
    "$H_0$ отклоняем, если $|W| > z_{\\alpha/2}$"
   ]
  },
  {
   "cell_type": "code",
   "execution_count": 1,
   "metadata": {},
   "outputs": [],
   "source": [
    "import numpy as np\n",
    "import scipy.stats\n",
    "from tqdm import tqdm_notebook as tqdm"
   ]
  },
  {
   "cell_type": "code",
   "execution_count": 2,
   "metadata": {},
   "outputs": [],
   "source": [
    "lambda_0 = 1\n",
    "n = 20\n",
    "alpha = 0.05"
   ]
  },
  {
   "cell_type": "code",
   "execution_count": 3,
   "metadata": {},
   "outputs": [],
   "source": [
    "def h0_accept():\n",
    "    X = np.random.poisson(lam=lambda_0, size=n)\n",
    "    W = (X.mean() - lambda_0) / np.sqrt(X.mean() / n)\n",
    "    #print(W)\n",
    "    z_alpha2 = scipy.stats.norm.interval(1 - alpha)[1]\n",
    "    #print(z_alpha2)\n",
    "    return not(np.abs(W) > z_alpha2)"
   ]
  },
  {
   "cell_type": "code",
   "execution_count": 4,
   "metadata": {},
   "outputs": [
    {
     "data": {
      "application/vnd.jupyter.widget-view+json": {
       "model_id": "a699912aa5924b5696e4c1ec786aeb0d",
       "version_major": 2,
       "version_minor": 0
      },
      "text/plain": [
       "HBox(children=(IntProgress(value=0, max=10000), HTML(value='')))"
      ]
     },
     "metadata": {},
     "output_type": "display_data"
    },
    {
     "name": "stdout",
     "output_type": "stream",
     "text": [
      "\n",
      "Доля экспериментов с отклоненной H0 = 0.054700\n"
     ]
    }
   ],
   "source": [
    "n_exp = 10**4\n",
    "count_accepted = 0\n",
    "for i in tqdm(range(n_exp)):\n",
    "    count_accepted += h0_accept()\n",
    "print('Доля экспериментов с отклоненной H0 = %f' % (1 - count_accepted / n_exp))"
   ]
  },
  {
   "cell_type": "markdown",
   "metadata": {},
   "source": [
    "##### Ну, конечно, доля получилулась близка к $\\alpha$. Мы же отлично знаем мат. статистику, а она говорит, что доля ошибок первого сходится к $\\alpha$ "
   ]
  },
  {
   "cell_type": "markdown",
   "metadata": {},
   "source": [
    "# Задание 2"
   ]
  },
  {
   "cell_type": "markdown",
   "metadata": {},
   "source": [
    "Заметим, что $ \\lambda = 2 \\ln \\dfrac{L_1}{L_0} = 2 (\\ln L_1 - \\ln L_0)$. Найдем $L_0$ и $L_1$, учитывая, что \n",
    "$\\hat\\mu = \\overline X$ и $\\hat\\sigma = \\dfrac{\\sum (X_i - \\overline X)^2}{n}$"
   ]
  },
  {
   "cell_type": "markdown",
   "metadata": {},
   "source": [
    "$$\n",
    "\\ln L_1 =\\sum\\ln{\\frac{1}{\\sqrt{2\\pi\\hat\\sigma^2}}}\\exp{\\Big\\{-\\frac{(X_i - \\bar{X})^2}{2\\hat\\sigma^2}\\Big\\}} =\n",
    "-\\frac{n}{2}( \\ln{2\\pi}+\\ln{\\hat\\sigma}^2 + 1 )\n",
    "$$\n",
    "\n",
    "$$\n",
    "\\ln L_0 =\\sum\\ln{\\frac{1}{\\sqrt{2\\pi\\sigma_0^2}}}\\exp{\\Big\\{-\\frac{(X_i - \\bar{X})^2}{2\\sigma_0^2}\\Big\\}} =\n",
    "-\\frac{n}{2}( \\ln{2\\pi} + \\ln{\\sigma_0^2} + \\frac{\\hat\\sigma^2}{\\sigma_0^2})\n",
    "$$"
   ]
  },
  {
   "cell_type": "markdown",
   "metadata": {},
   "source": [
    "Таким образом $\\lambda = 2\\cdot(\\ln L_1 - \\ln L_0) = -n\\cdot(\\ln\\hat\\sigma^2 - \\ln\\sigma_0^2 + 1 - \\dfrac{\\hat\\sigma^2}{\\sigma_0^2}) = -n(\\ln\\dfrac{\\hat\\sigma^2}{\\sigma_0^2} - \\dfrac{\\hat\\sigma^2}{\\sigma_0^2} + 1) = n(\\dfrac{\\hat\\sigma^2}{\\sigma_0^2} - 2\\ln\\dfrac{\\hat\\sigma}{\\sigma_0} - 1) $"
   ]
  },
  {
   "cell_type": "code",
   "execution_count": 5,
   "metadata": {},
   "outputs": [],
   "source": [
    "sigma_0 = 1.0"
   ]
  },
  {
   "cell_type": "code",
   "execution_count": 6,
   "metadata": {},
   "outputs": [],
   "source": [
    "def h0_accept():\n",
    "    X = scipy.stats.norm.rvs(scale=sigma_0, size=n_exp)\n",
    "    sigma_stat = X.std()\n",
    "    lambda_stat = len(X) * ((sigma_stat / sigma_0)**2 - 2 * np.log(sigma_stat / sigma_0) - 1)\n",
    "    #print(lambda_stat)\n",
    "    quant = scipy.stats.chi2.ppf(1 - alpha, df=1)\n",
    "    return lambda_stat <= quant"
   ]
  },
  {
   "cell_type": "code",
   "execution_count": 7,
   "metadata": {},
   "outputs": [
    {
     "data": {
      "application/vnd.jupyter.widget-view+json": {
       "model_id": "efcc30186d7d4929be81482220553e94",
       "version_major": 2,
       "version_minor": 0
      },
      "text/plain": [
       "HBox(children=(IntProgress(value=0, max=10000), HTML(value='')))"
      ]
     },
     "metadata": {},
     "output_type": "display_data"
    },
    {
     "name": "stdout",
     "output_type": "stream",
     "text": [
      "\n",
      "Доля экспериментов с отклоненной H0 = 0.050900\n"
     ]
    }
   ],
   "source": [
    "n_exp = 10**4\n",
    "count_accepted = 0\n",
    "for i in tqdm(range(n_exp)):\n",
    "    count_accepted += h0_accept()\n",
    "print('Доля экспериментов с отклоненной H0 = %f' % (1 - count_accepted / n_exp))"
   ]
  },
  {
   "cell_type": "markdown",
   "metadata": {},
   "source": [
    "# Задание 3"
   ]
  },
  {
   "cell_type": "code",
   "execution_count": 7,
   "metadata": {},
   "outputs": [],
   "source": [
    "import pandas as pd"
   ]
  },
  {
   "cell_type": "code",
   "execution_count": 8,
   "metadata": {},
   "outputs": [
    {
     "data": {
      "text/html": [
       "<div>\n",
       "<style scoped>\n",
       "    .dataframe tbody tr th:only-of-type {\n",
       "        vertical-align: middle;\n",
       "    }\n",
       "\n",
       "    .dataframe tbody tr th {\n",
       "        vertical-align: top;\n",
       "    }\n",
       "\n",
       "    .dataframe thead th {\n",
       "        text-align: right;\n",
       "    }\n",
       "</style>\n",
       "<table border=\"1\" class=\"dataframe\">\n",
       "  <thead>\n",
       "    <tr style=\"text-align: right;\">\n",
       "      <th></th>\n",
       "      <th>VOL</th>\n",
       "      <th>HP</th>\n",
       "      <th>MPG</th>\n",
       "      <th>SP</th>\n",
       "      <th>WT</th>\n",
       "    </tr>\n",
       "    <tr>\n",
       "      <th>makeAndModel</th>\n",
       "      <th></th>\n",
       "      <th></th>\n",
       "      <th></th>\n",
       "      <th></th>\n",
       "      <th></th>\n",
       "    </tr>\n",
       "  </thead>\n",
       "  <tbody>\n",
       "    <tr>\n",
       "      <th>GM/GeoMetroXF1</th>\n",
       "      <td>89</td>\n",
       "      <td>49</td>\n",
       "      <td>65.4</td>\n",
       "      <td>96</td>\n",
       "      <td>17.5</td>\n",
       "    </tr>\n",
       "    <tr>\n",
       "      <th>GM/GeoMetro</th>\n",
       "      <td>92</td>\n",
       "      <td>55</td>\n",
       "      <td>56.0</td>\n",
       "      <td>97</td>\n",
       "      <td>20.0</td>\n",
       "    </tr>\n",
       "    <tr>\n",
       "      <th>GM/GeoMetroLSI</th>\n",
       "      <td>92</td>\n",
       "      <td>55</td>\n",
       "      <td>55.9</td>\n",
       "      <td>97</td>\n",
       "      <td>20.0</td>\n",
       "    </tr>\n",
       "    <tr>\n",
       "      <th>SuzukiSwift</th>\n",
       "      <td>92</td>\n",
       "      <td>70</td>\n",
       "      <td>49.0</td>\n",
       "      <td>105</td>\n",
       "      <td>20.0</td>\n",
       "    </tr>\n",
       "    <tr>\n",
       "      <th>DaihatsuCharade</th>\n",
       "      <td>92</td>\n",
       "      <td>53</td>\n",
       "      <td>46.5</td>\n",
       "      <td>96</td>\n",
       "      <td>20.0</td>\n",
       "    </tr>\n",
       "  </tbody>\n",
       "</table>\n",
       "</div>"
      ],
      "text/plain": [
       "                 VOL  HP   MPG   SP    WT\n",
       "makeAndModel                             \n",
       "GM/GeoMetroXF1    89  49  65.4   96  17.5\n",
       "GM/GeoMetro       92  55  56.0   97  20.0\n",
       "GM/GeoMetroLSI    92  55  55.9   97  20.0\n",
       "SuzukiSwift       92  70  49.0  105  20.0\n",
       "DaihatsuCharade   92  53  46.5   96  20.0"
      ]
     },
     "execution_count": 8,
     "metadata": {},
     "output_type": "execute_result"
    }
   ],
   "source": [
    "df = pd.read_csv('data/passengercarmileage.txt', sep='\\t', index_col=0)\n",
    "df[:5]"
   ]
  },
  {
   "cell_type": "code",
   "execution_count": 9,
   "metadata": {},
   "outputs": [],
   "source": [
    "y_data = df['MPG']\n",
    "x_data = df['HP']"
   ]
  },
  {
   "cell_type": "code",
   "execution_count": 10,
   "metadata": {},
   "outputs": [],
   "source": [
    "from sklearn.linear_model import LinearRegression\n",
    "import matplotlib.pyplot as plt\n",
    "%matplotlib inline"
   ]
  },
  {
   "cell_type": "code",
   "execution_count": 11,
   "metadata": {},
   "outputs": [],
   "source": [
    "def train_and_plot(x_train, y_train, transform=None, untransform=None):\n",
    "    if len(x_train.shape) < 2:\n",
    "        x_train = x_train.reshape((-1, 1))\n",
    "    y_orig = y_train\n",
    "    if transform is not None and untransform is not None:\n",
    "        y_train = transform(y_train)\n",
    "    regr = LinearRegression().fit(x_train, y_train)\n",
    "    ind = x_train[:, 0].argsort()\n",
    "    x_regr = x_train[ind, :]\n",
    "    y_regr = regr.predict(x_regr)\n",
    "    if transform is not None and untransform is not None:\n",
    "        y_regr = untransform(y_regr)\n",
    "    plt.figure(figsize=(11, 6))\n",
    "    plt.scatter(x_train, y_data, label='True values')\n",
    "    plt.plot(x_train[ind, :], y_regr, c='red', label='Predicted values')\n",
    "    plt.xlabel('HP')\n",
    "    plt.ylabel('MPG')\n",
    "    plt.legend()\n",
    "    plt.show()\n",
    "    y_pred_orig = regr.predict(x_train)\n",
    "    if transform is not None and untransform is not None:\n",
    "        y_pred_orig = untransform(y_pred_orig)\n",
    "    return (regr, y_pred_orig)"
   ]
  },
  {
   "cell_type": "markdown",
   "metadata": {},
   "source": [
    "## (a)"
   ]
  },
  {
   "cell_type": "code",
   "execution_count": 12,
   "metadata": {},
   "outputs": [
    {
     "data": {
      "image/png": "[encoded data removed]",
      "text/plain": [
       "<Figure size 792x432 with 1 Axes>"
      ]
     },
     "metadata": {},
     "output_type": "display_data"
    }
   ],
   "source": [
    "regr_lin, pred_lin = train_and_plot(x_data.values, y_data.values)"
   ]
  },
  {
   "cell_type": "markdown",
   "metadata": {},
   "source": [
    "## (b)"
   ]
  },
  {
   "cell_type": "code",
   "execution_count": 13,
   "metadata": {},
   "outputs": [
    {
     "data": {
      "image/png": "[encoded data removed]",
      "text/plain": [
       "<Figure size 792x432 with 1 Axes>"
      ]
     },
     "metadata": {},
     "output_type": "display_data"
    }
   ],
   "source": [
    "regr_log, pred_log = train_and_plot(x_data.values, y_data.values, np.log, np.exp)"
   ]
  },
  {
   "cell_type": "code",
   "execution_count": 14,
   "metadata": {},
   "outputs": [],
   "source": [
    "def get_score(y_true, y_pred):\n",
    "    return ((y_pred - y_true)**2).sum()"
   ]
  },
  {
   "cell_type": "code",
   "execution_count": 15,
   "metadata": {},
   "outputs": [
    {
     "name": "stdout",
     "output_type": "stream",
     "text": [
      "Качество чисто линейной модели 3049.435111\n",
      "Качество линейной модели с логарифмическим признаком 2378.362675\n"
     ]
    }
   ],
   "source": [
    "print('Качество чисто линейной модели %f' % get_score(y_data.values, pred_lin))\n",
    "print('Качество линейной модели с логарифмическим признаком %f' % get_score(y_data.values, pred_log))"
   ]
  },
  {
   "cell_type": "markdown",
   "metadata": {},
   "source": [
    "__Качество заметно выросло__"
   ]
  },
  {
   "cell_type": "markdown",
   "metadata": {},
   "source": [
    "## (c)"
   ]
  },
  {
   "cell_type": "code",
   "execution_count": 16,
   "metadata": {},
   "outputs": [],
   "source": [
    "y_data = df['MPG']\n",
    "x_data = df.drop('MPG', axis=1)"
   ]
  },
  {
   "cell_type": "code",
   "execution_count": 17,
   "metadata": {},
   "outputs": [],
   "source": [
    "def fit_model(model, x_train, y_train):\n",
    "    if len(x_train.shape) == 1:\n",
    "        x_train = x_train.reshape((-1, 1))\n",
    "    model.fit(x_train, y_train)\n",
    "    return model\n",
    "\n",
    "def predict_model(model, x_test):\n",
    "    if len(x_test.shape) == 1:\n",
    "        x_test = x_test.reshape((-1, 1))\n",
    "    return model.predict(x_test)"
   ]
  },
  {
   "cell_type": "code",
   "execution_count": 18,
   "metadata": {},
   "outputs": [],
   "source": [
    "model = fit_model(LinearRegression(), x_data, y_data)"
   ]
  },
  {
   "cell_type": "code",
   "execution_count": 19,
   "metadata": {},
   "outputs": [
    {
     "name": "stdout",
     "output_type": "stream",
     "text": [
      "Качество чисто линейной модели на всех признаках 1027.381477\n"
     ]
    }
   ],
   "source": [
    "print('Качество чисто линейной модели на всех признаках %f' % get_score(y_data.values, predict_model(model, x_data.values)))"
   ]
  },
  {
   "cell_type": "markdown",
   "metadata": {},
   "source": [
    "## (d)"
   ]
  },
  {
   "cell_type": "code",
   "execution_count": 20,
   "metadata": {},
   "outputs": [
    {
     "name": "stdout",
     "output_type": "stream",
     "text": [
      "13.171557400703326\n"
     ]
    }
   ],
   "source": [
    "def fit_and_score(model, X, y):\n",
    "    model = fit_model(model, X, y)\n",
    "    y_pred = predict_model(model, X)\n",
    "    return get_score(y, y_pred)\n",
    "VAR = fit_and_score(LinearRegression(), x_data, y_data) / (x_data.shape[0] - x_data.shape[1])\n",
    "print(VAR)\n",
    "def get_mallow(x_train, y_train):\n",
    "    features = x_train.shape[1] if len(x_train.shape) > 1 else 1\n",
    "    return fit_and_score(LinearRegression(), x_train, y_train) + 2 * features * VAR"
   ]
  },
  {
   "cell_type": "code",
   "execution_count": 21,
   "metadata": {},
   "outputs": [],
   "source": [
    "from itertools import product, combinations\n",
    "from copy import deepcopy\n",
    "\n",
    "def grid_search_features(x_data_df, y_data_df):\n",
    "    x_data = x_data_df.values\n",
    "    y_data = y_data_df.values\n",
    "    \n",
    "    features = x_data_df.columns\n",
    "    status_bar = tqdm(total=2**len(features) - 1)\n",
    "    best_score = None\n",
    "    best_subfeatures = []\n",
    "    for n_features in range(1, len(features) + 1):\n",
    "        for selected_features in combinations(features, n_features):\n",
    "            cols = list(selected_features)\n",
    "            cur_score = get_mallow(x_data_df[cols].values, y_data)\n",
    "            if best_score is None or cur_score < best_score:\n",
    "                best_score = cur_score\n",
    "                best_subfeatures = selected_features\n",
    "            #print(cur_score, selected_features)\n",
    "            status_bar.update()\n",
    "    return best_subfeatures, best_score\n",
    "\n",
    "def exclusive_search_features(x_data_df, y_data_df):\n",
    "    x_data = x_data_df.values\n",
    "    y_data = y_data_df.values\n",
    "    \n",
    "    features = x_data_df.columns.values\n",
    "    best_score = get_mallow(x_data, y_data)\n",
    "    best_subfeatures = deepcopy(features)\n",
    "    \n",
    "    found_better = True\n",
    "    while found_better:\n",
    "        subfeatures = [np.delete(best_subfeatures, i) for i in range(len(best_subfeatures))]\n",
    "        scores = np.array([get_mallow(x_data_df[features], y_data) for features in subfeatures])\n",
    "        min_ind = scores.argmin()\n",
    "        if scores[min_ind] < best_score:\n",
    "            best_subfeatures = subfeatures[min_ind]\n",
    "            best_score = scores[min_ind]\n",
    "            found_better = True\n",
    "        else:\n",
    "            found_better = False\n",
    "    \n",
    "    return best_subfeatures, best_score\n",
    "\n",
    "def inclusive_search_features(x_data_df, y_data_df):\n",
    "    x_data = x_data_df.values\n",
    "    y_data = y_data_df.values\n",
    "    \n",
    "    features = x_data_df.columns.values\n",
    "    best_score = None\n",
    "    best_subfeatures = []\n",
    "    best_subfeatures_set = set(best_subfeatures)\n",
    "    rest_features = set(list(features))\n",
    "    found_better = True\n",
    "    while found_better:\n",
    "        upfeatures = []\n",
    "        for f in rest_features:\n",
    "            new_features = deepcopy(best_subfeatures)\n",
    "            new_features.append(f)\n",
    "            upfeatures.append(new_features)\n",
    "        scores = np.array([get_mallow(x_data_df[features], y_data) for features in upfeatures])\n",
    "        min_ind = scores.argmin()\n",
    "        if best_score is None or scores[min_ind] < best_score:\n",
    "            best_subfeatures = upfeatures[min_ind]\n",
    "            best_score = scores[min_ind]\n",
    "            found_better = True\n",
    "            rest_features -= set(upfeatures[min_ind])\n",
    "        else:\n",
    "            found_better = False\n",
    "    return best_subfeatures, best_score"
   ]
  },
  {
   "cell_type": "code",
   "execution_count": 22,
   "metadata": {},
   "outputs": [
    {
     "data": {
      "application/vnd.jupyter.widget-view+json": {
       "model_id": "d73b8ac2d2444f4fa4f52f97a613ee38",
       "version_major": 2,
       "version_minor": 0
      },
      "text/plain": [
       "HBox(children=(IntProgress(value=0, max=15), HTML(value='')))"
      ]
     },
     "metadata": {},
     "output_type": "display_data"
    },
    {
     "name": "stdout",
     "output_type": "stream",
     "text": [
      "\n",
      "{ HP, SP, WT } with score 1112.6792828235086\n"
     ]
    }
   ],
   "source": [
    "best_subfeatures, best_score = grid_search_features(x_data, y_data)\n",
    "print( '{ '+ ', '.join(best_subfeatures) + ' } with score', best_score)\n"
   ]
  },
  {
   "cell_type": "code",
   "execution_count": 23,
   "metadata": {},
   "outputs": [
    {
     "name": "stdout",
     "output_type": "stream",
     "text": [
      "{ HP, SP, WT } with score 1112.6792828235086\n"
     ]
    }
   ],
   "source": [
    "best_subfeatures, best_score = exclusive_search_features(x_data, y_data)\n",
    "print( '{ '+ ', '.join(best_subfeatures) + ' } with score', best_score)\n"
   ]
  },
  {
   "cell_type": "code",
   "execution_count": 24,
   "metadata": {},
   "outputs": [
    {
     "name": "stdout",
     "output_type": "stream",
     "text": [
      "{ WT, SP, HP } with score 1112.6792828235066\n"
     ]
    }
   ],
   "source": [
    "best_subfeatures, best_score = inclusive_search_features(x_data, y_data)\n",
    "print( '{ '+ ', '.join(best_subfeatures) + ' } with score', best_score)\n"
   ]
  },
  {
   "cell_type": "markdown",
   "metadata": {},
   "source": [
    "##### Видим, что без признака VOL качество самое лучшее"
   ]
  },
  {
   "cell_type": "markdown",
   "metadata": {},
   "source": [
    "# Задание 4"
   ]
  },
  {
   "cell_type": "markdown",
   "metadata": {},
   "source": [
    "$$\n",
    "AIC(S) = |S| - \\ell_S\n",
    "$$\n",
    "\n",
    "Где $\\ell_S$ -- логарифм правдоподобия модели, где в качестве неизвестных параметров были подставлены их оценки, полученные при максимизации $\\ell_S\\left(\\beta\\right)$ (Списал с презентации)"
   ]
  },
  {
   "cell_type": "markdown",
   "metadata": {},
   "source": [
    "Распишем $\\ell_S$:\n",
    "$$\n",
    "\\ell_S = \\ln \\prod\\dfrac{1}{\\sqrt{2\\pi}\\sigma}\\exp\\{-\\dfrac{(y_j - \\sum_{i=1}^{k} \\beta_i x_{ji})^2}{2\\sigma^2}\\} = \n",
    "f(n, \\sigma) -\\sum \\limits_{j=1}^{n} \\frac{\\left( y_j - \\sum_{i=1}^{k} \\beta_i x_{ji}\\right)^2}{2\\sigma^2} \n",
    "$$"
   ]
  },
  {
   "cell_type": "markdown",
   "metadata": {},
   "source": [
    "Таким образом\n",
    "$$\n",
    "AIC(S) = |S| + \\sum \\limits_{j=1}^{n} \\frac{\\left( y_j - \\sum_{i=1}^{k} \\beta_i x_{ji}\\right)^2}{2\\sigma^2} - f(n, \\sigma)\n",
    "$$\n",
    "Заметим, что $n$ и $\\sigma$ в оптимизации не участвуют, поэтому:\n",
    "$$\n",
    "AIC \\to optim \\Leftrightarrow 2\\sigma^2|S| + \\sum \\limits_{j=1}^{n}\\left( y_j - \\sum_{i=1}^{k} \\beta_i x_{ji}\\right)^2 \\to optim \\Leftrightarrow 2\\sigma^2|S| + RSS \\to optim \\Leftrightarrow C_p Mallow \\to optim\n",
    "$$\n"
   ]
  },
  {
   "cell_type": "code",
   "execution_count": null,
   "metadata": {},
   "outputs": [],
   "source": []
  }
 ],
 "metadata": {
  "kernelspec": {
   "display_name": "Python 3",
   "language": "python",
   "name": "python3"
  },
  "language_info": {
   "codemirror_mode": {
    "name": "ipython",
    "version": 3
   },
   "file_extension": ".py",
   "mimetype": "text/x-python",
   "name": "python",
   "nbconvert_exporter": "python",
   "pygments_lexer": "ipython3",
   "version": "3.6.7"
  }
 },
 "nbformat": 4,
 "nbformat_minor": 2
}

{
 "cells": [
  {
   "cell_type": "markdown",
   "metadata": {},
   "source": [
    "## Грузим задание"
   ]
  },
  {
   "cell_type": "code",
   "execution_count": 3,
   "metadata": {},
   "outputs": [
    {
     "name": "stdout",
     "output_type": "stream",
     "text": [
      "--2018-12-17 22:14:40--  https://github.com/artonson/hse-stat-course-2018/raw/master/homework-handouts/homework-3.pdf\n",
      "Распознаётся github.com (github.com)… 140.82.118.4, 140.82.118.3\n",
      "Подключение к github.com (github.com)|140.82.118.4|:443... соединение установлено.\n",
      "HTTP-запрос отправлен. Ожидание ответа… 302 Found\n",
      "Адрес: https://raw.githubusercontent.com/artonson/hse-stat-course-2018/master/homework-handouts/homework-3.pdf [переход]\n",
      "--2018-12-17 22:14:40--  https://raw.githubusercontent.com/artonson/hse-stat-course-2018/master/homework-handouts/homework-3.pdf\n",
      "Распознаётся raw.githubusercontent.com (raw.githubusercontent.com)… 151.101.244.133\n",
      "Подключение к raw.githubusercontent.com (raw.githubusercontent.com)|151.101.244.133|:443... соединение установлено.\n",
      "HTTP-запрос отправлен. Ожидание ответа… 200 OK\n",
      "Длина: 200767 (196K) [application/octet-stream]\n",
      "Сохранение в: «homework-3.pdf»\n",
      "\n",
      "homework-3.pdf      100%[===================>] 196,06K  1,01MB/s    за 0,2s    \n",
      "\n",
      "2018-12-17 22:14:41 (1,01 MB/s) - «homework-3.pdf» сохранён [200767/200767]\n",
      "\n"
     ]
    }
   ],
   "source": [
    "! wget -nc https://github.com/artonson/hse-stat-course-2018/raw/master/homework-handouts/homework-3.pdf"
   ]
  },
  {
   "cell_type": "markdown",
   "metadata": {},
   "source": [
    "### Грузим данные"
   ]
  },
  {
   "cell_type": "code",
   "execution_count": 2,
   "metadata": {},
   "outputs": [
    {
     "name": "stdout",
     "output_type": "stream",
     "text": [
      "--2018-12-17 22:11:06--  https://raw.githubusercontent.com/artonson/hse-stat-course-2018/master/homework-handouts/passengercarmileage.txt\n",
      "Распознаётся raw.githubusercontent.com (raw.githubusercontent.com)… 151.101.244.133\n",
      "Подключение к raw.githubusercontent.com (raw.githubusercontent.com)|151.101.244.133|:443... соединение установлено.\n",
      "HTTP-запрос отправлен. Ожидание ответа… 200 OK\n",
      "Длина: 2765 (2,7K) [text/plain]\n",
      "Сохранение в: «data/passengercarmileage.txt»\n",
      "\n",
      "passengercarmileage 100%[===================>]   2,70K  --.-KB/s    за 0,004s  \n",
      "\n",
      "2018-12-17 22:11:06 (759 KB/s) - «data/passengercarmileage.txt» сохранён [2765/2765]\n",
      "\n"
     ]
    }
   ],
   "source": [
    "! wget -nc -P data/ https://raw.githubusercontent.com/artonson/hse-stat-course-2018/master/homework-handouts/passengercarmileage.txt"
   ]
  },
  {
   "cell_type": "markdown",
   "metadata": {},
   "source": [
    "# Задание 1."
   ]
  },
  {
   "cell_type": "markdown",
   "metadata": {},
   "source": [
    "Заметим, что $E[X] = \\lambda, D[X] = \\lambda$. Введем оценку $\\hat\\lambda = \\overline X$ -- ассимптотичски нормальная оценка.\n",
    "$$\n",
    "W = \\dfrac{\\hat\\lambda - \\lambda_0}{\\hat{se}}\n",
    "$$\n",
    "$H_0$ отклоняем, если $|W| > z_{\\alpha/2}$"
   ]
  },
  {
   "cell_type": "code",
   "execution_count": 136,
   "metadata": {},
   "outputs": [],
   "source": [
    "import numpy as np\n",
    "import scipy.stats\n",
    "from tqdm import tqdm_notebook as tqdm"
   ]
  },
  {
   "cell_type": "code",
   "execution_count": 305,
   "metadata": {},
   "outputs": [],
   "source": [
    "lambda_0 = 1\n",
    "n = 20\n",
    "alpha = 0.05"
   ]
  },
  {
   "cell_type": "code",
   "execution_count": 306,
   "metadata": {},
   "outputs": [],
   "source": [
    "def h0_accept():\n",
    "    X = np.random.poisson(lam=lambda_0, size=n)\n",
    "    W = (X.mean() - lambda_0) / X.std()\n",
    "    #print(W)\n",
    "    z_alpha2 = scipy.stats.norm.interval(alpha)[1]\n",
    "    #print(z_alpha2)\n",
    "    return not(np.abs(W) > z_alpha2)"
   ]
  },
  {
   "cell_type": "code",
   "execution_count": 307,
   "metadata": {},
   "outputs": [
    {
     "data": {
      "application/vnd.jupyter.widget-view+json": {
       "model_id": "525cac1571d047da80fa7620a2cd4e81",
       "version_major": 2,
       "version_minor": 0
      },
      "text/plain": [
       "HBox(children=(IntProgress(value=0, max=10000), HTML(value='')))"
      ]
     },
     "metadata": {},
     "output_type": "display_data"
    },
    {
     "name": "stdout",
     "output_type": "stream",
     "text": [
      "Доля экспериментов с отклоненной H0 = 0.762200\n"
     ]
    }
   ],
   "source": [
    "n_exp = 10**4\n",
    "count_accepted = 0\n",
    "for i in tqdm(range(n_exp)):\n",
    "    count_accepted += h0_accept()\n",
    "print('Доля экспериментов с отклоненной H0 = %f' % (1 - count_accepted / n_exp))"
   ]
  },
  {
   "cell_type": "code",
   "execution_count": 308,
   "metadata": {},
   "outputs": [
    {
     "name": "stdout",
     "output_type": "stream",
     "text": [
      "0.050000000000000044\n"
     ]
    }
   ],
   "source": [
    "p = scipy.stats.norm.cdf(scipy.stats.norm.interval(alpha)[1])\n",
    "p = 2 * p - 1\n",
    "print( p )"
   ]
  },
  {
   "cell_type": "code",
   "execution_count": null,
   "metadata": {},
   "outputs": [],
   "source": []
  },
  {
   "cell_type": "code",
   "execution_count": null,
   "metadata": {},
   "outputs": [],
   "source": []
  }
 ],
 "metadata": {
  "kernelspec": {
   "display_name": "Python 3",
   "language": "python",
   "name": "python3"
  },
  "language_info": {
   "codemirror_mode": {
    "name": "ipython",
    "version": 3
   },
   "file_extension": ".py",
   "mimetype": "text/x-python",
   "name": "python",
   "nbconvert_exporter": "python",
   "pygments_lexer": "ipython3",
   "version": "3.6.7"
  }
 },
 "nbformat": 4,
 "nbformat_minor": 2
}

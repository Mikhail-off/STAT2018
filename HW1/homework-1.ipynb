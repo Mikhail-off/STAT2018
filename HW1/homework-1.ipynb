{
 "cells": [
  {
   "cell_type": "code",
   "execution_count": 1,
   "metadata": {},
   "outputs": [],
   "source": [
    "import numpy as np\n",
    "import pandas as pd"
   ]
  },
  {
   "cell_type": "markdown",
   "metadata": {},
   "source": [
    "# Задание 1"
   ]
  },
  {
   "cell_type": "markdown",
   "metadata": {},
   "source": [
    "Будем удалять из множества на $n$ элементов рандомный элемент, пока не останется $k$ элементов, то есть нужно удалить $n-k$ элементов. Вероятность получить данное подмножество равно $\\dfrac{1}{n}\\cdot...\\cdot\\dfrac{1}{k+1}\\cdot(n-k)!$. На файториал домножили, потому что порядок удаления нам не важен. Заметим, что получившееся число равно $\\dfrac{1}{C_n^k}$. А это то, что нам надо."
   ]
  },
  {
   "cell_type": "code",
   "execution_count": 27,
   "metadata": {},
   "outputs": [
    {
     "name": "stdout",
     "output_type": "stream",
     "text": [
      "[2 4]\n"
     ]
    }
   ],
   "source": [
    "def random_choice(n, k):\n",
    "    '''\n",
    "    returns k random indices \n",
    "    '''\n",
    "    indices = np.arange(n)\n",
    "    for i in range(n - k):\n",
    "        indices = np.delete(indices, np.random.randint(low=0, high=n - i))\n",
    "    return indices\n",
    "print(random_choice(5, 2))"
   ]
  },
  {
   "cell_type": "markdown",
   "metadata": {},
   "source": [
    "# Задание 2"
   ]
  },
  {
   "cell_type": "markdown",
   "metadata": {},
   "source": [
    "Рассмотрим один шаг алгоритма. Там мы сравниваем все элементы с опорным элементом. Заметим, что на следующем шаге элементы, которые попали по разные стороны от опорного, больше не сравниваются, то есть любая пара сравнивается не более одного раза. Пусть исходный массив был $A$, $A_{(i)}$ -- $i$-й минимальный по величине элемент, $A_{ij}$ -- элементы от $A_{(i)}$ до $A_{(j)}$. Пусть $S$ -- общее число сравнений, тогда\n",
    "$$\n",
    "E[S] = E\\big[\\sum_{1 \\leq i < j \\leq n} I\\{A_{(i)} \\text{ сравнился с } A_{(j)}\\}\\big] = \\sum_{1 \\leq i < j \\leq n} P\\{A_{(i)} \\text{ сравнился с } A_{(j)}\\}\n",
    "$$\n",
    "Ну а когда у нас сравниваются элементы? Очевидно, что когда один из них -- опорный, а так же они должны быть в одном еще не подленном массиве. Вероятность выбрать опорным элементом $A_{(i)}$ равна $\\dfrac{1}{j - i + 1}$. Аналогично для $A_{(j)}$. Подставим в сумму:\n",
    "$$\n",
    "\\sum_{1 \\leq i < j \\leq n} \\dfrac{2}{j - i + 1} = \\sum_{i = 1}^{n - 1}\\sum_{j = i + 1}^{n} \\dfrac{2}{j - i + 1} =\n",
    "\\sum_{i = 1}^{n - 1}\\sum_{d = 1}^{n-i} \\dfrac{2}{d + 1}\n",
    "$$\n",
    "Асимптотически при $n \\to \\infty$. Это будет не более $O(n\\ln n)$, так как сумма по $d$ не более $\\ln n$"
   ]
  },
  {
   "cell_type": "markdown",
   "metadata": {},
   "source": [
    "# Задание 3"
   ]
  },
  {
   "cell_type": "markdown",
   "metadata": {},
   "source": [
    "__(б)__"
   ]
  },
  {
   "cell_type": "markdown",
   "metadata": {},
   "source": [
    "$$\n",
    "\\sum_{j = 0}^{5}\\big(Bin(j, n, \\frac{i - 1}{n}) - Bin(j, n, \\frac{i}{n})\\big) = P(\\hat\\theta > x_{(i-1)}) - P(\\hat\\theta > x_{(i)}) = 1 - P(\\hat\\theta \\leq x_{(i-1)}) - 1 + P(\\hat\\theta \\leq x_{(i)}) = P(\\hat\\theta \\leq x_{(i)}) - P(\\hat\\theta \\leq x_{(i-1)}) = P\\big(\\hat\\theta \\in (x_{(i-1)};x_{(i)}]\\big) = P\\big(\\hat\\theta = x_{(i)}\\big)\n",
    "$$"
   ]
  },
  {
   "cell_type": "markdown",
   "metadata": {},
   "source": [
    "__(c)__"
   ]
  },
  {
   "cell_type": "code",
   "execution_count": 75,
   "metadata": {},
   "outputs": [],
   "source": [
    "from scipy.stats import binom\n",
    "n = 11\n",
    "\n",
    "def p_bigger(i):\n",
    "    return sum([binom.pmf(j, n, i / n) for j in range(6)])\n",
    "def p_equal(i):\n",
    "    return p_bigger(i - 1) - p_bigger(i)"
   ]
  },
  {
   "cell_type": "markdown",
   "metadata": {},
   "source": [
    "$P(x_3 \\leq \\theta \\leq x_9) = $"
   ]
  },
  {
   "cell_type": "code",
   "execution_count": 83,
   "metadata": {},
   "outputs": [
    {
     "name": "stdout",
     "output_type": "stream",
     "text": [
      "0.9415462861954277\n"
     ]
    }
   ],
   "source": [
    "p_theta_lowereq_3 = 1 - p_bigger(3)\n",
    "p_theta_lowereq_9 = 1 - p_bigger(9)\n",
    "print(p_theta_lowereq_9 - p_theta_lowereq_3)"
   ]
  },
  {
   "cell_type": "markdown",
   "metadata": {},
   "source": [
    "# Задание 4"
   ]
  },
  {
   "cell_type": "code",
   "execution_count": null,
   "metadata": {},
   "outputs": [],
   "source": []
  },
  {
   "cell_type": "markdown",
   "metadata": {},
   "source": [
    "# Задание 5"
   ]
  },
  {
   "cell_type": "code",
   "execution_count": null,
   "metadata": {},
   "outputs": [],
   "source": []
  }
 ],
 "metadata": {
  "kernelspec": {
   "display_name": "Python 3",
   "language": "python",
   "name": "python3"
  },
  "language_info": {
   "codemirror_mode": {
    "name": "ipython",
    "version": 3
   },
   "file_extension": ".py",
   "mimetype": "text/x-python",
   "name": "python",
   "nbconvert_exporter": "python",
   "pygments_lexer": "ipython3",
   "version": "3.6.6"
  }
 },
 "nbformat": 4,
 "nbformat_minor": 2
}

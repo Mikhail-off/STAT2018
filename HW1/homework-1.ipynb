{
 "cells": [
  {
   "cell_type": "code",
   "execution_count": 1,
   "metadata": {},
   "outputs": [],
   "source": [
    "import numpy as np\n",
    "import pandas as pd"
   ]
  },
  {
   "cell_type": "markdown",
   "metadata": {},
   "source": [
    "# Задание 1"
   ]
  },
  {
   "cell_type": "markdown",
   "metadata": {},
   "source": [
    "Будем удалять из множества на $n$ элементов рандомный элемент, пока не останется $k$ элементов, то есть нужно удалить $n-k$ элементов. Вероятность получить данное подмножество равно $\\dfrac{1}{n}\\cdot...\\cdot\\dfrac{1}{k+1}\\cdot(n-k)!$. На файториал домножили, потому что порядок удаления нам не важен. Заметим, что получившееся число равно $\\dfrac{1}{C_n^k}$. А это то, что нам надо."
   ]
  },
  {
   "cell_type": "code",
   "execution_count": 2,
   "metadata": {},
   "outputs": [
    {
     "name": "stdout",
     "output_type": "stream",
     "text": [
      "[0 2]\n"
     ]
    }
   ],
   "source": [
    "def random_choice(n, k):\n",
    "    '''\n",
    "    returns k random indices \n",
    "    '''\n",
    "    indices = np.arange(n)\n",
    "    for i in range(n - k):\n",
    "        indices = np.delete(indices, np.random.randint(low=0, high=n - i))\n",
    "    return indices\n",
    "print(random_choice(5, 2))"
   ]
  },
  {
   "cell_type": "markdown",
   "metadata": {},
   "source": [
    "# Задание 2"
   ]
  },
  {
   "cell_type": "markdown",
   "metadata": {},
   "source": [
    "Рассмотрим один шаг алгоритма. Там мы сравниваем все элементы с опорным элементом. Заметим, что на следующем шаге элементы, которые попали по разные стороны от опорного, больше не сравниваются, то есть любая пара сравнивается не более одного раза. Пусть исходный массив был $A$, $A_{(i)}$ -- $i$-й минимальный по величине элемент, $A_{ij}$ -- элементы от $A_{(i)}$ до $A_{(j)}$. Пусть $S$ -- общее число сравнений, тогда\n",
    "$$\n",
    "E[S] = E\\big[\\sum_{1 \\leq i < j \\leq n} I\\{A_{(i)} \\text{ сравнился с } A_{(j)}\\}\\big] = \\sum_{1 \\leq i < j \\leq n} P\\{A_{(i)} \\text{ сравнился с } A_{(j)}\\}\n",
    "$$\n",
    "Ну а когда у нас сравниваются элементы? Очевидно, что когда один из них -- опорный, а так же они должны быть в одном еще не подленном массиве. Вероятность выбрать опорным элементом $A_{(i)}$ равна $\\dfrac{1}{j - i + 1}$. Аналогично для $A_{(j)}$. Подставим в сумму:\n",
    "$$\n",
    "\\sum_{1 \\leq i < j \\leq n} \\dfrac{2}{j - i + 1} = \\sum_{i = 1}^{n - 1}\\sum_{j = i + 1}^{n} \\dfrac{2}{j - i + 1} =\n",
    "\\sum_{i = 1}^{n - 1}\\sum_{d = 1}^{n-i} \\dfrac{2}{d + 1}\n",
    "$$\n",
    "Асимптотически при $n \\to \\infty$. Это будет не более $O(n\\ln n)$, так как сумма по $d$ не более $\\ln n$"
   ]
  },
  {
   "cell_type": "markdown",
   "metadata": {},
   "source": [
    "# Задание 3"
   ]
  },
  {
   "cell_type": "markdown",
   "metadata": {},
   "source": [
    "__(a)__"
   ]
  },
  {
   "cell_type": "markdown",
   "metadata": {},
   "source": [
    "Что за событие $\\hat\\theta > x_{(i)}$? Это значит, что в бутстрепную выборку попало не более 5 элементов из множества $\\{x_{(j)}\\}_{j=1}^i$. Вероятность такого события определяется выпадением пяти успехов в схеме бернулли с вероятностью выбрать число из множества выше с вероятностью успеха $\\dfrac{i}{n}$, где $n=11$ -- размер выборки. Теперь очевидно, почему формула именнто такая"
   ]
  },
  {
   "cell_type": "markdown",
   "metadata": {},
   "source": [
    "__(б)__"
   ]
  },
  {
   "cell_type": "markdown",
   "metadata": {},
   "source": [
    "$$\n",
    "\\sum_{j = 0}^{5}\\big(Bin(j, n, \\frac{i - 1}{n}) - Bin(j, n, \\frac{i}{n})\\big) = P(\\hat\\theta > x_{(i-1)}) - P(\\hat\\theta > x_{(i)}) = 1 - P(\\hat\\theta \\leq x_{(i-1)}) - 1 + P(\\hat\\theta \\leq x_{(i)}) = P(\\hat\\theta \\leq x_{(i)}) - P(\\hat\\theta \\leq x_{(i-1)}) = P\\big(\\hat\\theta \\in (x_{(i-1)};x_{(i)}]\\big) = P\\big(\\hat\\theta = x_{(i)}\\big)\n",
    "$$"
   ]
  },
  {
   "cell_type": "markdown",
   "metadata": {},
   "source": [
    "__(c)__"
   ]
  },
  {
   "cell_type": "code",
   "execution_count": 3,
   "metadata": {},
   "outputs": [],
   "source": [
    "from scipy.stats import binom\n",
    "n = 11\n",
    "\n",
    "def p_bigger(i):\n",
    "    return sum([binom.pmf(j, n, i / n) for j in range(6)])\n",
    "def p_equal(i):\n",
    "    return p_bigger(i - 1) - p_bigger(i)\n",
    "def get_interval(low, high):\n",
    "    p_theta_bigger_low = p_bigger(low)\n",
    "    p_theta_eq_low = p_equal(low)\n",
    "    p_theta_bigger_high = p_bigger(high)\n",
    "    return p_theta_bigger_low + p_theta_eq_low - p_theta_bigger_high"
   ]
  },
  {
   "cell_type": "markdown",
   "metadata": {},
   "source": [
    "$P(x_{(3)} \\leq \\hat\\theta \\leq x_{(9)}) = 1 - P(\\hat\\theta < x_{(3)} ) - P(\\hat\\theta > x_{(9)}) = P(\\hat\\theta \\geq x_{(3)}) - P(\\hat\\theta > x_{(9)}) = P(\\hat\\theta > x_{(3)}) + P(\\hat\\theta = x_{(3)}) - P(\\hat\\theta > x_{(9)})$"
   ]
  },
  {
   "cell_type": "code",
   "execution_count": 4,
   "metadata": {},
   "outputs": [
    {
     "name": "stdout",
     "output_type": "stream",
     "text": [
      "[1, 8] -- 0.9488\n",
      "[1, 9] -- 0.9928\n",
      "[1, 10] -- 0.9998\n",
      "[1, 11] -- 1.0000\n",
      "[2, 8] -- 0.9486\n",
      "[2, 9] -- 0.9926\n",
      "[2, 10] -- 0.9997\n",
      "[2, 11] -- 0.9998\n",
      "[3, 8] -- 0.9415\n",
      "[3, 9] -- 0.9856\n",
      "[3, 10] -- 0.9926\n",
      "[3, 11] -- 0.9928\n",
      "[4, 8] -- 0.8975\n",
      "[4, 9] -- 0.9415\n",
      "[4, 10] -- 0.9486\n",
      "[4, 11] -- 0.9488\n"
     ]
    }
   ],
   "source": [
    "for low in range(1, 12):\n",
    "    for high in range(low + 1, 12):\n",
    "        p = get_interval(low, high)\n",
    "        if p >= 0.89:\n",
    "            print('[%d, %d] -- %.4f' % (low, high, p))"
   ]
  },
  {
   "cell_type": "markdown",
   "metadata": {},
   "source": [
    "Самый нормальный интервал(в википедии почему-то с равенством, то есть это отрезок) -- $[x_{(3)}, x_{(8)}]$ и $[x_{(4)}, x_{(9)}]$ с уровнем доверия $0.94$"
   ]
  },
  {
   "cell_type": "markdown",
   "metadata": {},
   "source": [
    "Хотя если округлять до второго знака, то еще будет $[x_{(4)}, x_{(8)}]$ с уровнем доверия $0.8975 \\approx 0.9$"
   ]
  },
  {
   "cell_type": "markdown",
   "metadata": {},
   "source": [
    "# Задание 4"
   ]
  },
  {
   "cell_type": "code",
   "execution_count": 5,
   "metadata": {},
   "outputs": [
    {
     "name": "stdout",
     "output_type": "stream",
     "text": [
      "File ‘./data/galaxies.csv’ already there; not retrieving.\r\n",
      "\r\n"
     ]
    }
   ],
   "source": [
    "! wget -nc https://vincentarelbundock.github.io/Rdatasets/csv/MASS/galaxies.csv -P ./data/"
   ]
  },
  {
   "cell_type": "code",
   "execution_count": 6,
   "metadata": {},
   "outputs": [
    {
     "data": {
      "text/html": [
       "<div>\n",
       "<style scoped>\n",
       "    .dataframe tbody tr th:only-of-type {\n",
       "        vertical-align: middle;\n",
       "    }\n",
       "\n",
       "    .dataframe tbody tr th {\n",
       "        vertical-align: top;\n",
       "    }\n",
       "\n",
       "    .dataframe thead th {\n",
       "        text-align: right;\n",
       "    }\n",
       "</style>\n",
       "<table border=\"1\" class=\"dataframe\">\n",
       "  <thead>\n",
       "    <tr style=\"text-align: right;\">\n",
       "      <th></th>\n",
       "      <th>dat</th>\n",
       "    </tr>\n",
       "  </thead>\n",
       "  <tbody>\n",
       "    <tr>\n",
       "      <th>1</th>\n",
       "      <td>9172</td>\n",
       "    </tr>\n",
       "    <tr>\n",
       "      <th>2</th>\n",
       "      <td>9350</td>\n",
       "    </tr>\n",
       "    <tr>\n",
       "      <th>3</th>\n",
       "      <td>9483</td>\n",
       "    </tr>\n",
       "    <tr>\n",
       "      <th>4</th>\n",
       "      <td>9558</td>\n",
       "    </tr>\n",
       "    <tr>\n",
       "      <th>5</th>\n",
       "      <td>9775</td>\n",
       "    </tr>\n",
       "  </tbody>\n",
       "</table>\n",
       "</div>"
      ],
      "text/plain": [
       "    dat\n",
       "1  9172\n",
       "2  9350\n",
       "3  9483\n",
       "4  9558\n",
       "5  9775"
      ]
     },
     "execution_count": 6,
     "metadata": {},
     "output_type": "execute_result"
    }
   ],
   "source": [
    "df = pd.read_csv('data/galaxies.csv', index_col=0)\n",
    "df[:5]"
   ]
  },
  {
   "cell_type": "markdown",
   "metadata": {},
   "source": [
    "__(a)__"
   ]
  },
  {
   "cell_type": "markdown",
   "metadata": {},
   "source": [
    "Будем использовать Гауссово ядро как в Википедии, то есть $\\dfrac{1}{2\\pi}exp(\\dfrac{x^2}{2})$, потому что в чате пошла путанница с нормировкой."
   ]
  },
  {
   "cell_type": "code",
   "execution_count": 7,
   "metadata": {},
   "outputs": [],
   "source": [
    "from tqdm import tqdm\n",
    "def get_min_h(x_from, x_to, x_count, data):\n",
    "    x_arr = np.linspace(x_from, x_to, x_count)\n",
    "\n",
    "    def get_density(x, h):\n",
    "        after_kernel = np.exp( -((x - data) / h)**2 / 2 ) / np.sqrt(2 * np.pi)\n",
    "        return after_kernel.sum() / data.shape[0] / h \n",
    "\n",
    "    def is_unimodal(h):\n",
    "        assert(data.shape[0] > 2)\n",
    "        density = np.array([get_density(x, h) for x in x_arr])\n",
    "        counter = 0\n",
    "        for i in range(len(density) - 2):\n",
    "            last_d, cur_d, next_d = density[i - 1], density[i], density[i + 1]\n",
    "            if last_d < cur_d and cur_d > next_d:\n",
    "                counter += 1\n",
    "            last_d = cur_d\n",
    "            cur_d = next_d\n",
    "        return counter == 1\n",
    "    \n",
    "    h_left = 1e-4\n",
    "    h_right = 1e4\n",
    "    h_min = 0\n",
    "    while abs(h_left - h_right) > 0.01:\n",
    "        h_min = (h_left + h_right) / 2\n",
    "        if is_unimodal(h_min):\n",
    "            h_right = h_min\n",
    "        else:\n",
    "            h_left = h_min\n",
    "    return h_min"
   ]
  },
  {
   "cell_type": "code",
   "execution_count": 8,
   "metadata": {},
   "outputs": [
    {
     "name": "stdout",
     "output_type": "stream",
     "text": [
      "3045.835564536761\n"
     ]
    }
   ],
   "source": [
    "h_uni = get_min_h(x_from=5000, x_to=50000, x_count=1000, data=df.values)\n",
    "print(h_uni)"
   ]
  },
  {
   "cell_type": "markdown",
   "metadata": {},
   "source": [
    "__(б)__"
   ]
  },
  {
   "cell_type": "code",
   "execution_count": 9,
   "metadata": {},
   "outputs": [],
   "source": [
    "from sklearn.utils import resample\n",
    "def get_h(data):\n",
    "    return get_min_h(x_from=5000, x_to=50000, x_count=1000, data=data)"
   ]
  },
  {
   "cell_type": "code",
   "execution_count": 10,
   "metadata": {},
   "outputs": [
    {
     "name": "stderr",
     "output_type": "stream",
     "text": [
      "100%|██████████| 82/82 [00:57<00:00,  1.38it/s]"
     ]
    },
    {
     "name": "stdout",
     "output_type": "stream",
     "text": [
      "0.5121951219512195\n"
     ]
    },
    {
     "name": "stderr",
     "output_type": "stream",
     "text": [
      "\n"
     ]
    }
   ],
   "source": [
    "B = df.shape[0]\n",
    "indic = 0\n",
    "for b in tqdm(range(B)):\n",
    "    data = resample(df.values)\n",
    "    indic += get_h(data) >= h_uni\n",
    "p = indic / B\n",
    "print(p)"
   ]
  },
  {
   "cell_type": "markdown",
   "metadata": {},
   "source": [
    "# Задание 5"
   ]
  },
  {
   "cell_type": "code",
   "execution_count": 11,
   "metadata": {},
   "outputs": [],
   "source": [
    "import scipy.stats as st"
   ]
  },
  {
   "cell_type": "code",
   "execution_count": 12,
   "metadata": {},
   "outputs": [
    {
     "name": "stdout",
     "output_type": "stream",
     "text": [
      "File ‘./data/cd4.csv’ already there; not retrieving.\r\n",
      "\r\n"
     ]
    }
   ],
   "source": [
    "! wget -nc https://vincentarelbundock.github.io/Rdatasets/csv/boot/cd4.csv -P ./data/"
   ]
  },
  {
   "cell_type": "code",
   "execution_count": 13,
   "metadata": {},
   "outputs": [
    {
     "data": {
      "text/html": [
       "<div>\n",
       "<style scoped>\n",
       "    .dataframe tbody tr th:only-of-type {\n",
       "        vertical-align: middle;\n",
       "    }\n",
       "\n",
       "    .dataframe tbody tr th {\n",
       "        vertical-align: top;\n",
       "    }\n",
       "\n",
       "    .dataframe thead th {\n",
       "        text-align: right;\n",
       "    }\n",
       "</style>\n",
       "<table border=\"1\" class=\"dataframe\">\n",
       "  <thead>\n",
       "    <tr style=\"text-align: right;\">\n",
       "      <th></th>\n",
       "      <th>baseline</th>\n",
       "      <th>oneyear</th>\n",
       "    </tr>\n",
       "  </thead>\n",
       "  <tbody>\n",
       "    <tr>\n",
       "      <th>1</th>\n",
       "      <td>2.12</td>\n",
       "      <td>2.47</td>\n",
       "    </tr>\n",
       "    <tr>\n",
       "      <th>2</th>\n",
       "      <td>4.35</td>\n",
       "      <td>4.61</td>\n",
       "    </tr>\n",
       "    <tr>\n",
       "      <th>3</th>\n",
       "      <td>3.39</td>\n",
       "      <td>5.26</td>\n",
       "    </tr>\n",
       "    <tr>\n",
       "      <th>4</th>\n",
       "      <td>2.51</td>\n",
       "      <td>3.02</td>\n",
       "    </tr>\n",
       "    <tr>\n",
       "      <th>5</th>\n",
       "      <td>4.04</td>\n",
       "      <td>6.36</td>\n",
       "    </tr>\n",
       "  </tbody>\n",
       "</table>\n",
       "</div>"
      ],
      "text/plain": [
       "   baseline  oneyear\n",
       "1      2.12     2.47\n",
       "2      4.35     4.61\n",
       "3      3.39     5.26\n",
       "4      2.51     3.02\n",
       "5      4.04     6.36"
      ]
     },
     "execution_count": 13,
     "metadata": {},
     "output_type": "execute_result"
    }
   ],
   "source": [
    "df = pd.read_csv('data/cd4.csv', index_col=0)\n",
    "df.head()"
   ]
  },
  {
   "cell_type": "code",
   "execution_count": 14,
   "metadata": {},
   "outputs": [
    {
     "name": "stdout",
     "output_type": "stream",
     "text": [
      "[[1.         0.72316537]\n",
      " [0.72316537 1.        ]]\n",
      "0.7231653678920302\n"
     ]
    }
   ],
   "source": [
    "pearson = np.corrcoef(df['baseline'], df['oneyear'])\n",
    "print(pearson)\n",
    "pearson = pearson[0, 1]\n",
    "print(pearson)"
   ]
  },
  {
   "cell_type": "code",
   "execution_count": 15,
   "metadata": {},
   "outputs": [
    {
     "name": "stdout",
     "output_type": "stream",
     "text": [
      "[0.82784066 0.72159291 0.81091678 0.58363388 0.70598546 0.79566592\n",
      " 0.79334771 0.67574391 0.57577645 0.75837776 0.73284319 0.67531855\n",
      " 0.80536751 0.82697238 0.7352836  0.83361163 0.75275647 0.63485424\n",
      " 0.71036328 0.65824444]\n"
     ]
    }
   ],
   "source": [
    "B = df.shape[0]\n",
    "pearsons = [0]*B\n",
    "for b in range(B):\n",
    "    bs = resample(df.values)\n",
    "    pearsons[b] = np.corrcoef(bs[:, 0], bs[:, 1])[0, 1]\n",
    "pearsons = np.array(pearsons)\n",
    "print(pearsons)"
   ]
  },
  {
   "cell_type": "markdown",
   "metadata": {},
   "source": [
    "__Обычый бутстреп__"
   ]
  },
  {
   "cell_type": "code",
   "execution_count": 16,
   "metadata": {},
   "outputs": [
    {
     "data": {
      "text/plain": [
       "(0.6743418051449426, 0.7719889306391179)"
      ]
     },
     "execution_count": 16,
     "metadata": {},
     "output_type": "execute_result"
    }
   ],
   "source": [
    "boot = np.std(pearsons)\n",
    "z = st.norm.interval(0.95 / 2)[1]\n",
    "\n",
    "pearson - z * boot, pearson + z * boot"
   ]
  },
  {
   "cell_type": "markdown",
   "metadata": {},
   "source": [
    "__Центральный бутстреп__"
   ]
  },
  {
   "cell_type": "code",
   "execution_count": 17,
   "metadata": {},
   "outputs": [
    {
     "data": {
      "text/plain": [
       "(0.6154603130491673, 0.8668220054813434)"
      ]
     },
     "execution_count": 17,
     "metadata": {},
     "output_type": "execute_result"
    }
   ],
   "source": [
    "2 * pearson - np.percentile(pearsons, 97.5), 2 * pearson - np.percentile(pearsons, 2.5)"
   ]
  },
  {
   "cell_type": "markdown",
   "metadata": {},
   "source": [
    "__Персентильный бутстреп__"
   ]
  },
  {
   "cell_type": "code",
   "execution_count": 18,
   "metadata": {},
   "outputs": [
    {
     "data": {
      "text/plain": [
       "(0.5795087303027171, 0.8308704227348932)"
      ]
     },
     "execution_count": 18,
     "metadata": {},
     "output_type": "execute_result"
    }
   ],
   "source": [
    "np.percentile(pearsons, 2.5), np.percentile(pearsons, 97.5)"
   ]
  },
  {
   "cell_type": "markdown",
   "metadata": {},
   "source": [
    "__t бутстреп__"
   ]
  },
  {
   "cell_type": "code",
   "execution_count": 19,
   "metadata": {},
   "outputs": [
    {
     "data": {
      "text/plain": [
       "(0.5894425113006061, 0.8449049785340592)"
      ]
     },
     "execution_count": 19,
     "metadata": {},
     "output_type": "execute_result"
    }
   ],
   "source": [
    "boot = (pearsons - pearson) / np.sqrt((1 - pearsons**2) / (B - 2))\n",
    "se = np.sqrt((1-pearson**2) / (B-2))\n",
    "pearson - se * np.percentile(boot, 97.5), pearson - se * np.percentile(boot, 2.5)"
   ]
  },
  {
   "cell_type": "code",
   "execution_count": null,
   "metadata": {},
   "outputs": [],
   "source": []
  }
 ],
 "metadata": {
  "kernelspec": {
   "display_name": "Python 3",
   "language": "python",
   "name": "python3"
  },
  "language_info": {
   "codemirror_mode": {
    "name": "ipython",
    "version": 3
   },
   "file_extension": ".py",
   "mimetype": "text/x-python",
   "name": "python",
   "nbconvert_exporter": "python",
   "pygments_lexer": "ipython3",
   "version": "3.6.6"
  }
 },
 "nbformat": 4,
 "nbformat_minor": 2
}
